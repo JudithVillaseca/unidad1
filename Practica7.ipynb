{
  "nbformat": 4,
  "nbformat_minor": 0,
  "metadata": {
    "colab": {
      "provenance": [],
      "authorship_tag": "ABX9TyNvGvX+1xILvfpfFhKlJOm3",
      "include_colab_link": true
    },
    "kernelspec": {
      "name": "python3",
      "display_name": "Python 3"
    },
    "language_info": {
      "name": "python"
    }
  },
  "cells": [
    {
      "cell_type": "markdown",
      "metadata": {
        "id": "view-in-github",
        "colab_type": "text"
      },
      "source": [
        "<a href=\"https://colab.research.google.com/github/JudithVillaseca/unidad1/blob/main/Practica7.ipynb\" target=\"_parent\"><img src=\"https://colab.research.google.com/assets/colab-badge.svg\" alt=\"Open In Colab\"/></a>"
      ]
    },
    {
      "cell_type": "code",
      "execution_count": null,
      "metadata": {
        "id": "aKLUBTZwFQJ5"
      },
      "outputs": [],
      "source": []
    },
    {
      "cell_type": "markdown",
      "source": [
        "Judith Villaseca Sanchez - Practica 7\n",
        "25 de Septiembre del 2025.\n",
        "-----------------------------\n",
        "Slincing Numpy\n",
        "--------------------------\n",
        "Utilice STEP para determinar el paso del corte:\n",
        "Ejemplo: ([1,2,3,4,5,7]) - Devuelve todos los elementos del indice 1 al indice 5\n"
      ],
      "metadata": {
        "id": "8bQVDOriGhoB"
      }
    },
    {
      "cell_type": "code",
      "source": [
        "import numpy as np\n",
        "arreglo=np.array([1,2,3,4,5,6,7])\n",
        "print(arreglo[1:5:2])\n"
      ],
      "metadata": {
        "colab": {
          "base_uri": "https://localhost:8080/"
        },
        "id": "v2NduK2XG14s",
        "outputId": "2c6fc12a-91bd-45b1-bb4f-beae0f84bec1"
      },
      "execution_count": 1,
      "outputs": [
        {
          "output_type": "stream",
          "name": "stdout",
          "text": [
            "[2 4]\n"
          ]
        }
      ]
    },
    {
      "cell_type": "markdown",
      "source": [
        "Ejemplo 2: ([1,2,3,4,5,6,7])\n",
        "Devuelve los  elementos de la matriz\n",
        "--------------------------------------\n"
      ],
      "metadata": {
        "id": "o7xZ6K5jIvov"
      }
    },
    {
      "cell_type": "code",
      "source": [
        "import numpy as np\n",
        "arreglo=np.array([1,2,3,4,5,6,7])\n",
        "print(arreglo[::2])"
      ],
      "metadata": {
        "colab": {
          "base_uri": "https://localhost:8080/"
        },
        "id": "SnHBO6o4I9T7",
        "outputId": "906fa213-e199-45ac-fdec-eecb1e55c37a"
      },
      "execution_count": 3,
      "outputs": [
        {
          "output_type": "stream",
          "name": "stdout",
          "text": [
            "[1 3 5 7]\n"
          ]
        }
      ]
    },
    {
      "cell_type": "markdown",
      "source": [
        "SLice de matrices 2D\n",
        "---------------------\n",
        "Ejemplo: ([[1,2,3,4,5], [6,7,8,9,10]])\n",
        "Del segundo elemento, corte del indice 1 al indice 4"
      ],
      "metadata": {
        "id": "89v5dW3iJvQz"
      }
    },
    {
      "cell_type": "code",
      "source": [
        "import numpy as np\n",
        "arreglo=np.array([[1,2,3,4,5], [6,7,8,9,10]])\n",
        "print(arreglo[1, 1:4])"
      ],
      "metadata": {
        "colab": {
          "base_uri": "https://localhost:8080/"
        },
        "id": "19tLInjxLgUQ",
        "outputId": "509098de-912a-4fd3-fe52-1324d7876df8"
      },
      "execution_count": 6,
      "outputs": [
        {
          "output_type": "stream",
          "name": "stdout",
          "text": [
            "[7 8 9]\n"
          ]
        }
      ]
    },
    {
      "cell_type": "markdown",
      "source": [
        " Ejemplo 4: ([[1,2,3,4,5], [[6,7,8,9,10]])\n",
        " De ambos elementos, devuelve el indice 2\n",
        " -----------------------------\n",
        ""
      ],
      "metadata": {
        "id": "vTqfwQWYNFsE"
      }
    },
    {
      "cell_type": "code",
      "source": [
        "import numpy as np\n",
        "arreglo=np.array([[1,2,3,4,5], [6,7,8,9,10]])\n",
        "print(arreglo[0:2, 2])"
      ],
      "metadata": {
        "colab": {
          "base_uri": "https://localhost:8080/"
        },
        "id": "LuFTuGnYNe8G",
        "outputId": "60b72b3c-07a9-47c4-f2c5-213abe2e436f"
      },
      "execution_count": 8,
      "outputs": [
        {
          "output_type": "stream",
          "name": "stdout",
          "text": [
            "[3 8]\n"
          ]
        }
      ]
    },
    {
      "cell_type": "markdown",
      "source": [
        "Ejemplo 5: ([[1,2,3,4,5], [6,7,8,9,10]])\n",
        "De ambos elementos corta el indice 1 al indice 4."
      ],
      "metadata": {
        "id": "JevhcY0NOEto"
      }
    },
    {
      "cell_type": "code",
      "source": [
        "import numpy as np\n",
        "arreglo=np.array([[1,2,3,4,5], [6,7,8,9,10]])\n",
        "print(arreglo[0:2, 1:4])"
      ],
      "metadata": {
        "colab": {
          "base_uri": "https://localhost:8080/"
        },
        "id": "9RwmrprEOW5a",
        "outputId": "6de50502-3b13-43dc-a8b3-55b00e22feb2"
      },
      "execution_count": 10,
      "outputs": [
        {
          "output_type": "stream",
          "name": "stdout",
          "text": [
            "[[2 3 4]\n",
            " [7 8 9]]\n"
          ]
        }
      ]
    },
    {
      "cell_type": "markdown",
      "source": [
        "Ejercicio 1 - Autonomo\n",
        "Del siguiente arreglo, ¿cual es el resultado?\n",
        "([1,2,3,4,5,6,7])\n",
        "Corta del 1er elemento al 6to elemento con paso 2"
      ],
      "metadata": {
        "id": "_oytsuqPPN7M"
      }
    },
    {
      "cell_type": "code",
      "source": [
        "import numpy as np\n",
        "arreglo=np.array([1,2,3,4,5,6,7])\n",
        "print(arreglo[0:6:2])"
      ],
      "metadata": {
        "colab": {
          "base_uri": "https://localhost:8080/"
        },
        "id": "TyamdeRIP0fI",
        "outputId": "aef2e03b-0c2a-4c82-e839-3dfa7cfdf853"
      },
      "execution_count": 12,
      "outputs": [
        {
          "output_type": "stream",
          "name": "stdout",
          "text": [
            "[1 3 5]\n"
          ]
        }
      ]
    }
  ]
}