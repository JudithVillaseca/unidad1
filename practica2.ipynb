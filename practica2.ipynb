{
  "nbformat": 4,
  "nbformat_minor": 0,
  "metadata": {
    "colab": {
      "provenance": [],
      "authorship_tag": "ABX9TyPtjAlJzVHiAPAgx1j1UyrM",
      "include_colab_link": true
    },
    "kernelspec": {
      "name": "python3",
      "display_name": "Python 3"
    },
    "language_info": {
      "name": "python"
    }
  },
  "cells": [
    {
      "cell_type": "markdown",
      "metadata": {
        "id": "view-in-github",
        "colab_type": "text"
      },
      "source": [
        "<a href=\"https://colab.research.google.com/github/JudithVillaseca/unidad1/blob/main/practica2.ipynb\" target=\"_parent\"><img src=\"https://colab.research.google.com/assets/colab-badge.svg\" alt=\"Open In Colab\"/></a>"
      ]
    },
    {
      "cell_type": "code",
      "execution_count": null,
      "metadata": {
        "id": "nxLkN_tYqlX5"
      },
      "outputs": [],
      "source": []
    },
    {
      "cell_type": "markdown",
      "source": [
        "Practica 2 - Numpy\n",
        "Judith Villaseca Sanchez 5F\n",
        "Fecha 9 Septiembre de 2025\n",
        "-------------------\n",
        "Como verificar el numero de dimensiones.\n",
        "Numpy proporciona el atributo ndim que devuelve un numero entero que nos dice cuantas dimensiones tiene una matriz\n",
        "------------------\n",
        "Ejemplo: Comprueba de cuantas dimensiones son las siguientes matrices.\n",
        "---------------------"
      ],
      "metadata": {
        "id": "xZ9BnA56rPi3"
      }
    },
    {
      "cell_type": "code",
      "source": [
        "import numpy as np\n",
        "\n",
        "arregloA=np.array(42)\n",
        "arregloB=np.array([1,2,3,4,5])\n",
        "arregloC=np.array([[1,2,3],[4,5,6]])\n",
        "arregloD=np.array([[[1,2,3], [4,5,6]] ,[[1,2,3],[4,5,6]]])\n",
        "\n",
        "print(arregloA.ndim)\n",
        "print(arregloB.ndim)\n",
        "print(arregloC.ndim)\n",
        "print(arregloD.ndim)\n"
      ],
      "metadata": {
        "colab": {
          "base_uri": "https://localhost:8080/"
        },
        "id": "kJ4iKTB1sfjP",
        "outputId": "31d3ac82-16c4-4158-92c9-af01691ba6ad"
      },
      "execution_count": 2,
      "outputs": [
        {
          "output_type": "stream",
          "name": "stdout",
          "text": [
            "0\n",
            "1\n",
            "2\n",
            "3\n"
          ]
        }
      ]
    },
    {
      "cell_type": "markdown",
      "source": [
        "Matrices de diemensiones superiores\n",
        "Una matriz ouede tener cualquier numero de dimensiones. Cuando se crea la matriz puede definir el numero de dimensiones utilizando el argumento ndmin.\n",
        "Ejemplo: Crea una matriz con 5 diemensiones y verifica que tenga las 5 dimensiones.\n",
        "-------------------\n"
      ],
      "metadata": {
        "id": "RS6V_2M0u2hw"
      }
    },
    {
      "cell_type": "code",
      "source": [
        "import numpy as np\n",
        "\n",
        "arreglo=np.array([1,2,3,4], ndmin=5)\n",
        "\n",
        "print(arreglo)\n",
        "\n",
        "print(\"Numero de dimensiones:\", arreglo.ndim)\n"
      ],
      "metadata": {
        "colab": {
          "base_uri": "https://localhost:8080/"
        },
        "id": "cspT2dWwxRhw",
        "outputId": "0e0c1f1a-1517-4450-dae1-396cfe4574f9"
      },
      "execution_count": 3,
      "outputs": [
        {
          "output_type": "stream",
          "name": "stdout",
          "text": [
            "[[[[[1 2 3 4]]]]]\n",
            "Numero de dimensiones: 5\n"
          ]
        }
      ]
    },
    {
      "cell_type": "markdown",
      "source": [
        "Ejercicio:\n",
        "Considerando la siguiente matriz\n",
        "\n",
        "arreglo=np.array([[1,2,3], [4,5,6]])\n",
        "\n",
        "¿Cuantas dimensiones tiene?\n",
        "Respuesta = 2\n"
      ],
      "metadata": {
        "id": "OTU_6teHycxV"
      }
    },
    {
      "cell_type": "markdown",
      "source": [
        "Numpy Indexacion de matrices\n",
        "Acceder a elementos de una matriz\n",
        "La indexacion de matrices es lo mismo que acceder a un elemento de una matriz. Puede acceder a un elemento de la matriz haciendo referencia a su numero de indice. Los indices en las matrices Numpy comienza en 0, lo que significa que el primer elemento tiene el indice 0 y el segundo tiene el indice1, etc.\n",
        "Ejemplo: Obtenga el primer elemento de la siguiente matriz.\n",
        "------------------------\n"
      ],
      "metadata": {
        "id": "jwOFvpaAzRfu"
      }
    },
    {
      "cell_type": "code",
      "source": [
        "import numpy as np\n",
        "\n",
        "arreglo=np.array([1,2,3,4])\n",
        "\n",
        "print(arreglo[0])"
      ],
      "metadata": {
        "colab": {
          "base_uri": "https://localhost:8080/"
        },
        "id": "JaDIZk5-0-fL",
        "outputId": "228b261c-8b1c-481f-a490-664a68b6015b"
      },
      "execution_count": 4,
      "outputs": [
        {
          "output_type": "stream",
          "name": "stdout",
          "text": [
            "1\n"
          ]
        }
      ]
    }
  ]
}