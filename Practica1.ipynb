{
  "nbformat": 4,
  "nbformat_minor": 0,
  "metadata": {
    "colab": {
      "provenance": [],
      "authorship_tag": "ABX9TyOrggRORrN8seZjq4CdHloU",
      "include_colab_link": true
    },
    "kernelspec": {
      "name": "python3",
      "display_name": "Python 3"
    },
    "language_info": {
      "name": "python"
    }
  },
  "cells": [
    {
      "cell_type": "markdown",
      "metadata": {
        "id": "view-in-github",
        "colab_type": "text"
      },
      "source": [
        "<a href=\"https://colab.research.google.com/github/JudithVillaseca/unidad1/blob/main/Practica1.ipynb\" target=\"_parent\"><img src=\"https://colab.research.google.com/assets/colab-badge.svg\" alt=\"Open In Colab\"/></a>"
      ]
    },
    {
      "cell_type": "code",
      "execution_count": null,
      "metadata": {
        "id": "XuPMjAkSRk2L"
      },
      "outputs": [],
      "source": []
    },
    {
      "cell_type": "markdown",
      "source": [
        "¿Que es Pandas en Python?\n",
        "Pandas es una libreria o biblioteca de Python que se utiliza para trabajar con conjuntos de datos tiene funciones para analizar, limpiar, explorar y manipular datos.\n",
        "El nombre \"Pandas\" hace referencia a Panel Data y Python Data, fue creado en el 2008.\n",
        "------------------------"
      ],
      "metadata": {
        "id": "6RHuKHR-RrFo"
      }
    },
    {
      "cell_type": "markdown",
      "source": [
        "¿Porque utilizar Pandas?\n",
        "Pandas nos permite analizar Big Data y sacar conclusiones basadas en teorias estadisticas. Los Pandas puedenlimpiar conjunto de datos desordenados y hacerlos legibles y relevantes. Los datos relevantes son muy importantes en ciencia de datos.\n",
        "------------------"
      ],
      "metadata": {
        "id": "x4r5X177Sbxk"
      }
    },
    {
      "cell_type": "markdown",
      "source": [
        "¿Que podemos hacer con Pandas?\n",
        "1.-Saber si existe correlacion entre dos o mas columnas.\n",
        "2.-Cual es el valor promedio.\n",
        "3.-Valor maximo.\n",
        "4.-Valor minimo.\n",
        "Pandas tambien puede eliminar filas que no son relevantes o que contienen errores como valores vacios. Estos se llama limpieza de datos.\n",
        "------------------------------"
      ],
      "metadata": {
        "id": "3XH1UTP0S8Ig"
      }
    },
    {
      "cell_type": "markdown",
      "source": [
        "Instalacion de Pandas\n",
        "Si tienes Python y Pip ya instalado en un sistema, instalalo usando el siguiente comando: Pip install pandas.\n",
        "Si este comando falla utiliza una distribucion de Python que ya tenga Pandas instalado.\n",
        "------------------------\n"
      ],
      "metadata": {
        "id": "nV0rCiP5TUGx"
      }
    },
    {
      "cell_type": "markdown",
      "source": [
        "Importar Pandas\n",
        "Una ves instalando pandas importalo a tus aplicaciones agregando la palabra clave: import pandas\n",
        "Ahora Pandas esta importado y listo para usar.\n",
        "------------------------------------"
      ],
      "metadata": {
        "id": "HX5lITkoUQG6"
      }
    },
    {
      "cell_type": "markdown",
      "source": [
        "Pandas como pd\n",
        "Crea un alias con la palabra aas al importar Pandas.\n",
        "Ejemplo: import pandas as pd\n",
        "Ahora el paquete Pandas ouede denominarse pd en vez de Pandas.\n",
        "-----------------------------"
      ],
      "metadata": {
        "id": "YFl9JLTMUond"
      }
    },
    {
      "cell_type": "markdown",
      "source": [
        "Comprobando la Version de Pandas\n",
        "La cadena de la Version se almacena en el atributo __version__\n",
        "Ejemplo:\n",
        "------------------------------------------"
      ],
      "metadata": {
        "id": "q3bQGrIHVWy7"
      }
    },
    {
      "cell_type": "code",
      "source": [
        "import pandas as pd\n",
        "print(pd.__version__)"
      ],
      "metadata": {
        "colab": {
          "base_uri": "https://localhost:8080/"
        },
        "id": "eGwNL23BVu3i",
        "outputId": "b98d7f01-d76b-4072-c3b9-75ef4304d98c"
      },
      "execution_count": 2,
      "outputs": [
        {
          "output_type": "stream",
          "name": "stdout",
          "text": [
            "2.2.2\n"
          ]
        }
      ]
    },
    {
      "cell_type": "markdown",
      "source": [
        "Ejercicio:\n",
        "¿Cual de las siguientes tres opciones es la biblioteca oficial de Pandas?\n",
        "1.)import p\n",
        "2.)import pandas\n",
        "3.)import pand\n",
        "Respuesta Correcta = 2\n",
        "--------------------------------------------"
      ],
      "metadata": {
        "id": "YoKYZVSxWmVj"
      }
    },
    {
      "cell_type": "markdown",
      "source": [
        "Pandas series, ¿Que es una serie?\n",
        "Una serie Pandas es como una columna en una tabla.\n",
        "Es una matriz unidimensional que contiene datos de cualquier tipo.\n",
        "Ejemplo:\n",
        "----------------------------------------------------"
      ],
      "metadata": {
        "id": "MFoj6koyXFsB"
      }
    },
    {
      "cell_type": "code",
      "source": [
        "import pandas as pd\n",
        "a=[1,7,2]\n",
        "myvar=pd.Series(a)\n",
        "print(myvar)"
      ],
      "metadata": {
        "colab": {
          "base_uri": "https://localhost:8080/"
        },
        "id": "1qsGJvztXnQV",
        "outputId": "b7ed084b-59ba-4777-a290-54dab8df8373"
      },
      "execution_count": 5,
      "outputs": [
        {
          "output_type": "stream",
          "name": "stdout",
          "text": [
            "0    1\n",
            "1    7\n",
            "2    2\n",
            "dtype: int64\n"
          ]
        }
      ]
    },
    {
      "cell_type": "markdown",
      "source": [
        "Etiquetas\n",
        "Si no se especifica nada mas, los valores se etiquetan con su numero de indice el primer valor tiene el indice ceri el segundo valor tiene indice 1, etc.\n",
        "Esta etiqueta se puede utilizar para acceder a un valor especifico.\n",
        "Ejemplo: Devuelve el primer valor de la serie\n",
        "print(myvar[0])\n",
        "-----------------------------------"
      ],
      "metadata": {
        "id": "bpku3U4JYK7L"
      }
    },
    {
      "cell_type": "code",
      "source": [
        "import pandas as pd\n",
        "a=[1,7,2]\n",
        "myvar=pd.Series(a)\n",
        "print(myvar[0])"
      ],
      "metadata": {
        "colab": {
          "base_uri": "https://localhost:8080/"
        },
        "id": "EvmnyZobY-I9",
        "outputId": "9af13e8c-4b5d-4c78-e9ac-33299c603c7e"
      },
      "execution_count": 8,
      "outputs": [
        {
          "output_type": "stream",
          "name": "stdout",
          "text": [
            "1\n"
          ]
        }
      ]
    },
    {
      "cell_type": "markdown",
      "source": [
        "Crear Etiquetas\n",
        "Donde el argumento index, podemos nombrar nuestras propias etiquetas.\n",
        "Ejemplo: Crea tus propias etiquetas\n",
        "myvar=pd.Series(a, index=[\"x\", \"y\", \"z\"])\n",
        "print(myvar)\n",
        "--------------------------------------"
      ],
      "metadata": {
        "id": "H7xbKxEwZdo0"
      }
    },
    {
      "cell_type": "code",
      "source": [
        "import pandas as pd\n",
        "a=[1,7,2]\n",
        "myvar=pd.Series(a, index=[\"x\",\"y\",\"z\"])\n",
        "print(myvar)"
      ],
      "metadata": {
        "colab": {
          "base_uri": "https://localhost:8080/"
        },
        "id": "0OV8XfDeaApU",
        "outputId": "d05f53f2-6c30-4825-8269-3fce6cf0cf2e"
      },
      "execution_count": 9,
      "outputs": [
        {
          "output_type": "stream",
          "name": "stdout",
          "text": [
            "x    1\n",
            "y    7\n",
            "z    2\n",
            "dtype: int64\n"
          ]
        }
      ]
    },
    {
      "cell_type": "markdown",
      "source": [
        "Cuando hayamos creado etiquetas, podemos acceder a un elemento haciendo referencia a su etiqueta.\n",
        "Ejemplo: Devuelve el valor de y\n",
        "print(myvar[\"y])\n",
        "-----------------------------------------"
      ],
      "metadata": {
        "id": "ZVV9XHRKaZrM"
      }
    },
    {
      "cell_type": "code",
      "source": [
        "import pandas as pd\n",
        "a=[1,7,2]\n",
        "myvar=pd.Series(a, index=[\"x\",\"y\",\"z\"])\n",
        "print(myvar[\"y\"])"
      ],
      "metadata": {
        "colab": {
          "base_uri": "https://localhost:8080/"
        },
        "id": "uyw2nGhla1Zb",
        "outputId": "a499e58a-9a2b-4160-9531-de626aad25d5"
      },
      "execution_count": 10,
      "outputs": [
        {
          "output_type": "stream",
          "name": "stdout",
          "text": [
            "7\n"
          ]
        }
      ]
    },
    {
      "cell_type": "markdown",
      "source": [
        "Objetos Clave/Valor como Serie\n",
        "Tambien podemos utilizar un objeto clave valor como un diccionario al crear una Serie.\n",
        "Ejemplo: Crea una serie pandas basicas apartir de un diccionario\n",
        "-------------------------------------------------------"
      ],
      "metadata": {
        "id": "mxVkwKj2bLe8"
      }
    },
    {
      "cell_type": "code",
      "source": [
        "import pandas as pd\n",
        "calorias={\"dia1\":420, \"dia2\":380, \"dia3\":390}\n",
        "myvar=pd.Series(calorias)\n",
        "print(myvar)"
      ],
      "metadata": {
        "colab": {
          "base_uri": "https://localhost:8080/"
        },
        "id": "_KVcqrWicI5d",
        "outputId": "c8f18cc9-3f42-463a-dd04-510142cf0474"
      },
      "execution_count": 11,
      "outputs": [
        {
          "output_type": "stream",
          "name": "stdout",
          "text": [
            "dia1    420\n",
            "dia2    380\n",
            "dia3    390\n",
            "dtype: int64\n"
          ]
        }
      ]
    },
    {
      "cell_type": "markdown",
      "source": [
        "Nota.-\n",
        "Las claves del diccionario se convierten en las etiquetas.\n",
        "Para seleccionar elementos del diccionario utilize el index y especifique el elemento que desea incluir en la serie.\n",
        "----------------------------"
      ],
      "metadata": {
        "id": "5Tl8H2YIcmCk"
      }
    },
    {
      "cell_type": "markdown",
      "source": [
        "Ejemplo: Crea una Serie utilizando datos unicamente del dia1 y dia2\n",
        "------------------------------------------"
      ],
      "metadata": {
        "id": "OO92loxPdIv1"
      }
    },
    {
      "cell_type": "code",
      "source": [
        "import pandas as pd\n",
        "calorias={\"dia1\":420, \"dia2\":380, \"dia3\":390}\n",
        "myvar=pd.Series(calorias, index=[\"dia1\", \"dia2\"])\n",
        "print(myvar)"
      ],
      "metadata": {
        "colab": {
          "base_uri": "https://localhost:8080/"
        },
        "id": "hKdEGTQwdWb9",
        "outputId": "d9ec27ce-e188-49e6-8975-307478f7cd7f"
      },
      "execution_count": 12,
      "outputs": [
        {
          "output_type": "stream",
          "name": "stdout",
          "text": [
            "dia1    420\n",
            "dia2    380\n",
            "dtype: int64\n"
          ]
        }
      ]
    },
    {
      "cell_type": "markdown",
      "source": [
        "Data Frame\n",
        "Marcos de datos los conjuntos de datos en Pandas suelen ser tablas multidimensionales llamadas datos frames. La serie es como una columna una data frame es toda ls tabla.\n",
        "-----------------------------------"
      ],
      "metadata": {
        "id": "yCXd8fCSeOaf"
      }
    },
    {
      "cell_type": "markdown",
      "source": [
        "Ejemplo: Crea un data frame apartir de dos series\n",
        "---------------------------------------"
      ],
      "metadata": {
        "id": "7UqeuFVTe1gm"
      }
    },
    {
      "cell_type": "code",
      "source": [
        "import pandas as pd\n",
        "data={\n",
        "    \"calorias\":[420, 380, 390],\n",
        "    \"duracion\":[50, 40, 45]\n",
        "    }\n",
        "myvar=pd.DataFrame(data)\n",
        "print(myvar)"
      ],
      "metadata": {
        "colab": {
          "base_uri": "https://localhost:8080/"
        },
        "id": "PIr-E1CWe82G",
        "outputId": "cdc5fc64-a78f-490d-9f68-c72cba5fabcf"
      },
      "execution_count": 28,
      "outputs": [
        {
          "output_type": "stream",
          "name": "stdout",
          "text": [
            "   calorias  duracion\n",
            "0       420        50\n",
            "1       380        40\n",
            "2       390        45\n"
          ]
        }
      ]
    }
  ]
}