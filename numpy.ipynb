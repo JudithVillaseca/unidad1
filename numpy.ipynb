{
  "nbformat": 4,
  "nbformat_minor": 0,
  "metadata": {
    "colab": {
      "provenance": [],
      "authorship_tag": "ABX9TyPPNLtLoXxwwQ66KgHpwQCY",
      "include_colab_link": true
    },
    "kernelspec": {
      "name": "python3",
      "display_name": "Python 3"
    },
    "language_info": {
      "name": "python"
    }
  },
  "cells": [
    {
      "cell_type": "markdown",
      "metadata": {
        "id": "view-in-github",
        "colab_type": "text"
      },
      "source": [
        "<a href=\"https://colab.research.google.com/github/JudithVillaseca/unidad1/blob/main/numpy.ipynb\" target=\"_parent\"><img src=\"https://colab.research.google.com/assets/colab-badge.svg\" alt=\"Open In Colab\"/></a>"
      ]
    },
    {
      "cell_type": "code",
      "execution_count": null,
      "metadata": {
        "id": "5KK8wktPiS5n"
      },
      "outputs": [],
      "source": []
    },
    {
      "cell_type": "markdown",
      "source": [
        "Numpy es una libreria de Python.\n",
        "Numpy se utiliza para trabajar con matrices o arreglos\n",
        "Numpy es la abreviatura de \"Python numerico\"\n",
        "Tambien tiene funciones para trabajar en el dominio del algebra lineal, la transformada y las matrices\n",
        "En Python tenemos listas que sirven como matrices pero son lentas de procesar. Numpy tiene como objetivo proporcionar un objeto de matriz que sea 50 veces mas rapido que las listas tradicionales."
      ],
      "metadata": {
        "id": "3Ud-Lezwi14q"
      }
    },
    {
      "cell_type": "code",
      "source": [
        "#Primero tenemos que importar la libreria\n",
        "import numpy\n",
        "\n",
        "arreglo=numpy.array([1,2,3,4,5])\n",
        "print(arreglo)\n"
      ],
      "metadata": {
        "colab": {
          "base_uri": "https://localhost:8080/"
        },
        "id": "7m__NXJ7lG0M",
        "outputId": "1bec569b-1fbc-4ab4-dc57-5e190b1ca97c"
      },
      "execution_count": 1,
      "outputs": [
        {
          "output_type": "stream",
          "name": "stdout",
          "text": [
            "[1 2 3 4 5]\n"
          ]
        }
      ]
    },
    {
      "cell_type": "markdown",
      "source": [
        "Numpy como np\n",
        "Numpy generalmente se importa bajo alias np. En python los alias son un nombre alternativo para referirse a la misma cosa"
      ],
      "metadata": {
        "id": "qhnoTHdzmLWk"
      }
    },
    {
      "cell_type": "code",
      "source": [
        "import numpy as np\n",
        "\n",
        "arreglo=np.array([6,7,8,9,10])\n",
        "print(arreglo)"
      ],
      "metadata": {
        "colab": {
          "base_uri": "https://localhost:8080/"
        },
        "id": "2E9esgV7mpwL",
        "outputId": "ed2f6557-9b11-418c-da71-11021703aa37"
      },
      "execution_count": 2,
      "outputs": [
        {
          "output_type": "stream",
          "name": "stdout",
          "text": [
            "[ 6  7  8  9 10]\n"
          ]
        }
      ]
    },
    {
      "cell_type": "markdown",
      "source": [
        "Comprobando la version de Numpy\n",
        "La cadena de la version se almacena en el atributo __version__"
      ],
      "metadata": {
        "id": "ruIrRj3KnadL"
      }
    },
    {
      "cell_type": "code",
      "source": [
        "import numpy as np\n",
        "\n",
        "print(np.__version__)"
      ],
      "metadata": {
        "colab": {
          "base_uri": "https://localhost:8080/"
        },
        "id": "xWH8A0ICn0iz",
        "outputId": "02233696-66b2-4a64-cbbc-0283b600d740"
      },
      "execution_count": 3,
      "outputs": [
        {
          "output_type": "stream",
          "name": "stdout",
          "text": [
            "2.0.2\n"
          ]
        }
      ]
    },
    {
      "cell_type": "markdown",
      "source": [
        "Numpy creando matrices\n",
        "Crear un objeto ndarray de Numpy\n",
        "NUmpy se utiliza para trabajar con matrices. El objeto de matriz se llama ndarray.\n",
        "Podemos crear un numpy ndarray utilizando la funcion array()"
      ],
      "metadata": {
        "id": "7kYWc5A7oPQr"
      }
    },
    {
      "cell_type": "code",
      "source": [
        "import numpy as np\n",
        "\n",
        "arreglo=np.array([\"Raul\", \"Ana\", \"Kimberly\", \"Yazmin\"])\n",
        "print(arreglo)\n",
        "print(type(arreglo))"
      ],
      "metadata": {
        "colab": {
          "base_uri": "https://localhost:8080/"
        },
        "id": "3GMzL5jxpIRt",
        "outputId": "2c48d94a-01d5-499a-a0c0-c3ffe96870bd"
      },
      "execution_count": 4,
      "outputs": [
        {
          "output_type": "stream",
          "name": "stdout",
          "text": [
            "['Raul' 'Ana' 'Kimberly' 'Yazmin']\n",
            "<class 'numpy.ndarray'>\n"
          ]
        }
      ]
    },
    {
      "cell_type": "markdown",
      "source": [
        "Dimensiones en matrices\n",
        "Una dimension en matrices es un nivel de profundidad de matriz (matrices anidadas)\n",
        "Una matriz anidada contiene matrices como elementos\n",
        "Matrices 0-D. Son elemntos de una matriz. Cada valor de una matriz es una matriz 0-D. Ejemplo: Crea una matriz 0-D con un valor de 42"
      ],
      "metadata": {
        "id": "uZ0dJw1cqGUr"
      }
    },
    {
      "cell_type": "code",
      "source": [
        "import numpy as np\n",
        "\n",
        "arreglo=np.array(42)\n",
        "\n",
        "print(arreglo)"
      ],
      "metadata": {
        "colab": {
          "base_uri": "https://localhost:8080/"
        },
        "id": "D7HnxxFyrDh8",
        "outputId": "e172b7a3-5737-4900-de7f-95c9e4e4d528"
      },
      "execution_count": 5,
      "outputs": [
        {
          "output_type": "stream",
          "name": "stdout",
          "text": [
            "42\n"
          ]
        }
      ]
    },
    {
      "cell_type": "markdown",
      "source": [
        "Matrices 1-D\n",
        "Una matriz que tiene matrices 0-D como elementos se denomina matriz unidimensional o 1-D.\n",
        "Estas son las matrices mas comunes y basicas.\n",
        "Ejemplo: Crea una matriz de 1-D que tenga los valores 1,2,3,4,5"
      ],
      "metadata": {
        "id": "R1JBBnhbsUt8"
      }
    },
    {
      "cell_type": "code",
      "source": [
        "import numpy as np\n",
        "\n",
        "arreglo=np.array([1,2,3,4,5])\n",
        "\n",
        "print(arreglo)\n"
      ],
      "metadata": {
        "colab": {
          "base_uri": "https://localhost:8080/"
        },
        "id": "u-ElGM8itOjK",
        "outputId": "40ebe92a-3b55-450d-83fa-74ba99ef0f49"
      },
      "execution_count": 6,
      "outputs": [
        {
          "output_type": "stream",
          "name": "stdout",
          "text": [
            "[1 2 3 4 5]\n"
          ]
        }
      ]
    },
    {
      "cell_type": "markdown",
      "source": [
        "Matrices 2D\n",
        "Una matriz que tiene matrices 1-D como elementos se denomina matriz 2D.\n",
        "A menudo se utilizan para representar matrices de segundo orden. NUmpy tiene un submodulo completo dedicado a operaciones con matrices llamado numpy.mat.\n",
        "Ejemplo: Crea una matriz de 2D que contenga dos matrices con los valores 123 y 456."
      ],
      "metadata": {
        "id": "sUr0uuxgtwbC"
      }
    },
    {
      "cell_type": "code",
      "source": [
        "import numpy as np\n",
        "\n",
        "arreglo=np.array([[1,2,3],[4,5,6]])\n",
        "\n",
        "print(arreglo)"
      ],
      "metadata": {
        "colab": {
          "base_uri": "https://localhost:8080/"
        },
        "id": "d-l3QDETupwz",
        "outputId": "55c70292-67e8-46cd-e5e8-6c8642c90f6e"
      },
      "execution_count": 7,
      "outputs": [
        {
          "output_type": "stream",
          "name": "stdout",
          "text": [
            "[[1 2 3]\n",
            " [4 5 6]]\n"
          ]
        }
      ]
    },
    {
      "cell_type": "markdown",
      "source": [
        "Matrices 3D\n",
        "Una matriz que tiene matrices 2D se denomina matriz 3D.\n",
        "Estas matrices se utilizan para representar una matriz de tercer orden.\n",
        "Ejemplo: Crea una matriz 3D con dos matrices bidimensionales, ambas conteniendo dos matrices con los valores 1,2,3 y 4,5,6."
      ],
      "metadata": {
        "id": "mYDsfgRNvT0Z"
      }
    },
    {
      "cell_type": "code",
      "source": [
        "import numpy as np\n",
        "\n",
        "arreglo=np.array([[[1,2,3],[4,5,6]],[[1,2,3],[4,5,6]]])\n",
        "\n",
        "print(arreglo)"
      ],
      "metadata": {
        "colab": {
          "base_uri": "https://localhost:8080/"
        },
        "id": "BaXc03TwxInS",
        "outputId": "363b74b4-e9b5-4e70-8e2b-fd7b752de241"
      },
      "execution_count": 9,
      "outputs": [
        {
          "output_type": "stream",
          "name": "stdout",
          "text": [
            "[[[1 2 3]\n",
            "  [4 5 6]]\n",
            "\n",
            " [[1 2 3]\n",
            "  [4 5 6]]]\n"
          ]
        }
      ]
    }
  ]
}