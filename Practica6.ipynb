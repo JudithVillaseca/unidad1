{
  "nbformat": 4,
  "nbformat_minor": 0,
  "metadata": {
    "colab": {
      "provenance": [],
      "authorship_tag": "ABX9TyPlAygQUN724chloe0ebzPx",
      "include_colab_link": true
    },
    "kernelspec": {
      "name": "python3",
      "display_name": "Python 3"
    },
    "language_info": {
      "name": "python"
    }
  },
  "cells": [
    {
      "cell_type": "markdown",
      "metadata": {
        "id": "view-in-github",
        "colab_type": "text"
      },
      "source": [
        "<a href=\"https://colab.research.google.com/github/JudithVillaseca/unidad1/blob/main/Practica6.ipynb\" target=\"_parent\"><img src=\"https://colab.research.google.com/assets/colab-badge.svg\" alt=\"Open In Colab\"/></a>"
      ]
    },
    {
      "cell_type": "code",
      "execution_count": null,
      "metadata": {
        "id": "e5qdUXDQKhHj"
      },
      "outputs": [],
      "source": []
    },
    {
      "cell_type": "markdown",
      "source": [
        "Judith Villaseca\n",
        "24 de Septiembre 2025, Practica 6\n",
        "Cortar Arreglos\n",
        "----------------------------------\n",
        "Slice en Python significa tomar elementos de un indice determinando a otro determinando indice.\n",
        "\n",
        "Pasamos Slicxe en lugar del indice de esta manera: [star:end]\n",
        "Sino pasamos el inicio se considera 0\n",
        "Sino pasamos al final, su longitud es considerada una matriz de una dimension\n",
        "--------------------------------\n",
        "Ejemplo:([1,2,3,4,5,6,7])\n",
        "Cortar los elementos del indice 1 al indice 5\n",
        "----------------------------------"
      ],
      "metadata": {
        "id": "drgmV8KzKiZs"
      }
    },
    {
      "cell_type": "code",
      "source": [
        "import numpy as np\n",
        "arreglo=np.array([1,2,3,4,5,6,7])\n",
        "print(arreglo[1:5])"
      ],
      "metadata": {
        "colab": {
          "base_uri": "https://localhost:8080/"
        },
        "id": "5Z27ESZcLi8S",
        "outputId": "b3646bb4-c364-459d-b4ef-4c706f5bde88"
      },
      "execution_count": 1,
      "outputs": [
        {
          "output_type": "stream",
          "name": "stdout",
          "text": [
            "[2 3 4 5]\n"
          ]
        }
      ]
    },
    {
      "cell_type": "markdown",
      "source": [
        "Ejemplo 2:\n",
        "([1,2,3,4,5,6,7]) Cortar del indice 4 hasta el final de la matriz"
      ],
      "metadata": {
        "id": "3OD04iNbMAeY"
      }
    },
    {
      "cell_type": "code",
      "source": [
        "import numpy as np\n",
        "arreglo=np.array([1,2,3,4,5,6,7])\n",
        "print(arreglo[4:])"
      ],
      "metadata": {
        "colab": {
          "base_uri": "https://localhost:8080/"
        },
        "id": "JoDkQBuoMCg5",
        "outputId": "1fb63c9b-be08-44c5-c4af-6634ddfb99fd"
      },
      "execution_count": 2,
      "outputs": [
        {
          "output_type": "stream",
          "name": "stdout",
          "text": [
            "[5 6 7]\n"
          ]
        }
      ]
    },
    {
      "cell_type": "markdown",
      "source": [
        "Ejemplo 3:\n",
        "([1,2,3,4,5,6,7]) Cortar elementos del principio hasta el indice 6"
      ],
      "metadata": {
        "id": "1IVAIHAxMg_B"
      }
    },
    {
      "cell_type": "code",
      "source": [
        "import numpy as np\n",
        "arreglo=np.array([1,2,3,4,5,6,7])\n",
        "print(arreglo[5:])"
      ],
      "metadata": {
        "colab": {
          "base_uri": "https://localhost:8080/"
        },
        "id": "wXG3S4eTMqd7",
        "outputId": "91c98b06-ad87-41ef-adbd-12c21833e1e4"
      },
      "execution_count": 3,
      "outputs": [
        {
          "output_type": "stream",
          "name": "stdout",
          "text": [
            "[6 7]\n"
          ]
        }
      ]
    },
    {
      "cell_type": "markdown",
      "source": [
        "Ejemplo 4:\n",
        "([1,2,3,4,5,6,7]) Corte negativo. Utilizamos el operador \"menos\" para hacer referencia a un indice desde el final.\n",
        "------------------------\n",
        "Cortar del indice 3 desde el final al indice 1 desde el final."
      ],
      "metadata": {
        "id": "bE-AHhmVM5Q6"
      }
    },
    {
      "cell_type": "code",
      "source": [
        "import numpy as np\n",
        "arreglo=np.array([1,2,3,4,5,6,7])\n",
        "print(arreglo[-3: -1])"
      ],
      "metadata": {
        "colab": {
          "base_uri": "https://localhost:8080/"
        },
        "id": "zC6ak3KdNcgr",
        "outputId": "8cf230d9-9dce-4926-d439-dad5c4027e5c"
      },
      "execution_count": 4,
      "outputs": [
        {
          "output_type": "stream",
          "name": "stdout",
          "text": [
            "[5 6]\n"
          ]
        }
      ]
    }
  ]
}