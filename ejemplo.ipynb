{
  "nbformat": 4,
  "nbformat_minor": 0,
  "metadata": {
    "colab": {
      "provenance": [],
      "authorship_tag": "ABX9TyMRFv8x68vkVyephjCDovVS",
      "include_colab_link": true
    },
    "kernelspec": {
      "name": "python3",
      "display_name": "Python 3"
    },
    "language_info": {
      "name": "python"
    }
  },
  "cells": [
    {
      "cell_type": "markdown",
      "metadata": {
        "id": "view-in-github",
        "colab_type": "text"
      },
      "source": [
        "<a href=\"https://colab.research.google.com/github/JudithVillaseca/unidad1/blob/main/ejemplo.ipynb\" target=\"_parent\"><img src=\"https://colab.research.google.com/assets/colab-badge.svg\" alt=\"Open In Colab\"/></a>"
      ]
    },
    {
      "cell_type": "code",
      "execution_count": null,
      "metadata": {
        "id": "B0yc5vR4w7Kc"
      },
      "outputs": [],
      "source": []
    },
    {
      "cell_type": "markdown",
      "source": [
        "prueba de colab python"
      ],
      "metadata": {
        "id": "LHaxdw07xeOr"
      }
    },
    {
      "cell_type": "code",
      "source": [
        "print(\"hola mundo\")"
      ],
      "metadata": {
        "colab": {
          "base_uri": "https://localhost:8080/"
        },
        "id": "U7gKuSuzxyQK",
        "outputId": "0dab41e4-b1a4-4875-989e-bcd66368b5fc"
      },
      "execution_count": 1,
      "outputs": [
        {
          "output_type": "stream",
          "name": "stdout",
          "text": [
            "hola mundo\n"
          ]
        }
      ]
    },
    {
      "cell_type": "markdown",
      "source": [
        "variables"
      ],
      "metadata": {
        "id": "6q4eg8k4yQ6H"
      }
    },
    {
      "cell_type": "code",
      "source": [
        "#variables en python\n",
        "nombre=\"Judith\"\n",
        "paterno=\"Villaseca\"\n",
        "materno=\"Sanchez\"\n",
        "edad=18\n",
        "estatura=1.50\n",
        "\n",
        "print(nombre, paterno, materno, edad, estatura)"
      ],
      "metadata": {
        "colab": {
          "base_uri": "https://localhost:8080/"
        },
        "id": "W3ytx6_YyVev",
        "outputId": "cf27823d-2a18-4a83-8a7c-4da012b24b51"
      },
      "execution_count": 2,
      "outputs": [
        {
          "output_type": "stream",
          "name": "stdout",
          "text": [
            "Judith Villaseca Sanchez 18 1.5\n"
          ]
        }
      ]
    },
    {
      "cell_type": "markdown",
      "source": [
        "solicitar 2 numeros al usuario y sumarlos"
      ],
      "metadata": {
        "id": "kcwO0v4fzeTq"
      }
    },
    {
      "cell_type": "code",
      "source": [
        "numero1=int(input(\"ingresa el primer numero\"))\n",
        "numero2=int(input(\"ingresa el segundo numero\"))\n",
        "suma=numero1+numero2\n",
        "print(\"suma=\", suma)"
      ],
      "metadata": {
        "colab": {
          "base_uri": "https://localhost:8080/"
        },
        "id": "2T8K7mbEzmp_",
        "outputId": "51987458-6bf5-4121-821b-73707e829c9f"
      },
      "execution_count": 3,
      "outputs": [
        {
          "output_type": "stream",
          "name": "stdout",
          "text": [
            "ingresa el primer numero12\n",
            "ingresa el segundo numero3\n",
            "suma= 15\n"
          ]
        }
      ]
    }
  ]
}