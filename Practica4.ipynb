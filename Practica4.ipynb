{
  "nbformat": 4,
  "nbformat_minor": 0,
  "metadata": {
    "colab": {
      "provenance": [],
      "authorship_tag": "ABX9TyN0J7V2J6aCoWtc9rsCF4da",
      "include_colab_link": true
    },
    "kernelspec": {
      "name": "python3",
      "display_name": "Python 3"
    },
    "language_info": {
      "name": "python"
    }
  },
  "cells": [
    {
      "cell_type": "markdown",
      "metadata": {
        "id": "view-in-github",
        "colab_type": "text"
      },
      "source": [
        "<a href=\"https://colab.research.google.com/github/JudithVillaseca/unidad1/blob/main/Practica4.ipynb\" target=\"_parent\"><img src=\"https://colab.research.google.com/assets/colab-badge.svg\" alt=\"Open In Colab\"/></a>"
      ]
    },
    {
      "cell_type": "code",
      "execution_count": null,
      "metadata": {
        "id": "_XEmunzHRQvI"
      },
      "outputs": [],
      "source": []
    },
    {
      "cell_type": "markdown",
      "source": [
        "Numpy Indexacion de Matriz.\n",
        "Acceder a elementos de una matriz.\n",
        "La indexacion de matrices es lo mismo que acceder a un elemento de una matriz.\n",
        "Puede acceder a un elemento de una matriz, haciendo referencia de su numero de indice.\n",
        "Los indices en las matrices Numpy comienza en cero, lo que significa que el primer elemento tiene indice 0, el segundo tiene indice 1, el tercero tiene indice 2, etc.\n",
        "Ejemplo: Obtenga el primer elemento de la siguiente matriz."
      ],
      "metadata": {
        "id": "w83S_c1UR2yn"
      }
    },
    {
      "cell_type": "code",
      "source": [
        "import numpy as np\n",
        "arreglo=np.array([1,2,3,4,5])\n",
        "print(arreglo[0])"
      ],
      "metadata": {
        "colab": {
          "base_uri": "https://localhost:8080/"
        },
        "id": "iRSwhT-dS4ti",
        "outputId": "8b96ae87-5889-4d08-ec7e-b94874f9b1d1"
      },
      "execution_count": 2,
      "outputs": [
        {
          "output_type": "stream",
          "name": "stdout",
          "text": [
            "1\n"
          ]
        }
      ]
    },
    {
      "cell_type": "markdown",
      "source": [
        "Ejemplo: De la siguiente lista:\n",
        "6,7,8,9,10 obtenga el tercer y cuarto elemento"
      ],
      "metadata": {
        "id": "IaVhjO6eTRPi"
      }
    },
    {
      "cell_type": "code",
      "source": [
        "import numpy as np\n",
        "arreglo=np.array([6,7,8,9,10])\n",
        "print(arreglo[2])\n",
        "print(arreglo[3])"
      ],
      "metadata": {
        "colab": {
          "base_uri": "https://localhost:8080/"
        },
        "id": "xH0gbKi1TgMB",
        "outputId": "bd2dec62-0e26-447e-cad7-eeab148f8398"
      },
      "execution_count": 3,
      "outputs": [
        {
          "output_type": "stream",
          "name": "stdout",
          "text": [
            "8\n",
            "9\n"
          ]
        }
      ]
    },
    {
      "cell_type": "markdown",
      "source": [
        "Acceder a matrices 2D.\n",
        "Para acceder a elementos de matrices 2D, podemos utilizar numeroa enteros, separados por comas que representan al numero de dimension y al indice de elementos.\n",
        "Piense en matrices 2D, como una tabla con filas y columnas.\n",
        "Donde la dimension representa la fila y el indice representa la columna."
      ],
      "metadata": {
        "id": "bvr59DNNT5PR"
      }
    },
    {
      "cell_type": "markdown",
      "source": [
        "Ejemplo: Realiza una matriz 2D, con los siguientes arreglo.\n",
        "listas1:1,2,3,4,5\n",
        "listas2:6,7,8,9,10"
      ],
      "metadata": {
        "id": "gEOu9oBeUsIh"
      }
    },
    {
      "cell_type": "code",
      "source": [
        "import numpy as np\n",
        "arreglo=np.array([[1,2,3,4,5],[6,7,8,9,10]])\n",
        "print(arreglo[0,1])"
      ],
      "metadata": {
        "colab": {
          "base_uri": "https://localhost:8080/"
        },
        "id": "C0pwXE7EU_mg",
        "outputId": "1b1c2399-f9bb-41d1-981b-9b923423f892"
      },
      "execution_count": 6,
      "outputs": [
        {
          "output_type": "stream",
          "name": "stdout",
          "text": [
            "2\n"
          ]
        }
      ]
    }
  ]
}