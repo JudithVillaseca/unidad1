{
  "nbformat": 4,
  "nbformat_minor": 0,
  "metadata": {
    "colab": {
      "provenance": [],
      "authorship_tag": "ABX9TyOvmmk0pf6gpt/Cs+D2tsfF",
      "include_colab_link": true
    },
    "kernelspec": {
      "name": "python3",
      "display_name": "Python 3"
    },
    "language_info": {
      "name": "python"
    }
  },
  "cells": [
    {
      "cell_type": "markdown",
      "metadata": {
        "id": "view-in-github",
        "colab_type": "text"
      },
      "source": [
        "<a href=\"https://colab.research.google.com/github/JudithVillaseca/unidad1/blob/main/Practica5.ipynb\" target=\"_parent\"><img src=\"https://colab.research.google.com/assets/colab-badge.svg\" alt=\"Open In Colab\"/></a>"
      ]
    },
    {
      "cell_type": "code",
      "execution_count": 2,
      "metadata": {
        "colab": {
          "base_uri": "https://localhost:8080/"
        },
        "id": "pVrgNpLH15c6",
        "outputId": "77123219-0792-4f70-e7b0-d6345d47829e"
      },
      "outputs": [
        {
          "output_type": "stream",
          "name": "stdout",
          "text": [
            "la media es: 39.125\n"
          ]
        }
      ],
      "source": [
        "import numpy as np\n",
        "datos=[23, 45, 56, 12, 67, 34, 55, 21]\n",
        "media=np.mean(datos)\n",
        "print(\"la media es:\", media)"
      ]
    },
    {
      "cell_type": "code",
      "source": [
        "import numpy as np\n",
        "datos=[23, 45, 56, 12, 67, 34, 55, 21]\n",
        "mediana=np.median(datos)\n",
        "print(\"la mediana es:\", mediana)"
      ],
      "metadata": {
        "colab": {
          "base_uri": "https://localhost:8080/"
        },
        "id": "exJOZQ5R23qP",
        "outputId": "f35f2577-f5c0-4a16-b26f-db160142ec39"
      },
      "execution_count": 4,
      "outputs": [
        {
          "output_type": "stream",
          "name": "stdout",
          "text": [
            "la mediana es: 39.5\n"
          ]
        }
      ]
    },
    {
      "cell_type": "code",
      "source": [
        "from scipy import stats\n",
        "datos=[23, 45, 56, 12, 67, 34, 55, 21]\n",
        "moda=stats.mode(datos)\n",
        "print(\"la moda es:\", moda.mode)"
      ],
      "metadata": {
        "colab": {
          "base_uri": "https://localhost:8080/"
        },
        "id": "ESz7Fn9M3jbK",
        "outputId": "03dd16ff-b5e9-4282-9e86-5670ab4956e0"
      },
      "execution_count": 11,
      "outputs": [
        {
          "output_type": "stream",
          "name": "stdout",
          "text": [
            "la moda es: 12\n"
          ]
        }
      ]
    },
    {
      "cell_type": "markdown",
      "source": [
        "segunda lista:\n",
        "10, 20, 30, 40, 20, 50, 20"
      ],
      "metadata": {
        "id": "z1vJYujH5aRf"
      }
    },
    {
      "cell_type": "code",
      "source": [
        "import numpy as np\n",
        "datos=[10, 20, 30, 40, 20, 50, 20]\n",
        "media=np.mean(datos)\n",
        "print(\"la media es:\", media)"
      ],
      "metadata": {
        "colab": {
          "base_uri": "https://localhost:8080/"
        },
        "id": "XkKD_k4t5jke",
        "outputId": "c882c6f7-ec9e-46bf-a1b2-ed1cbe67baa0"
      },
      "execution_count": 12,
      "outputs": [
        {
          "output_type": "stream",
          "name": "stdout",
          "text": [
            "la media es: 27.142857142857142\n"
          ]
        }
      ]
    },
    {
      "cell_type": "markdown",
      "source": [
        "la mediana:"
      ],
      "metadata": {
        "id": "2HBSaAUt6WF0"
      }
    },
    {
      "cell_type": "code",
      "source": [
        "import numpy as np\n",
        "datos=[10, 20, 30, 40, 20, 50, 20]\n",
        "mediana=np.median(datos)\n",
        "print(\"la mediana es:\", mediana)"
      ],
      "metadata": {
        "colab": {
          "base_uri": "https://localhost:8080/"
        },
        "id": "sjOiJVt_6YwV",
        "outputId": "30911702-4aa2-4861-bc3b-c6a596c2eb07"
      },
      "execution_count": 14,
      "outputs": [
        {
          "output_type": "stream",
          "name": "stdout",
          "text": [
            "la mediana es: 20.0\n"
          ]
        }
      ]
    },
    {
      "cell_type": "markdown",
      "source": [
        "la moda es:"
      ],
      "metadata": {
        "id": "tkQeQRNY64fl"
      }
    },
    {
      "cell_type": "code",
      "source": [
        "from scipy import stats\n",
        "datos=[10, 20, 30, 40, 20, 50, 20]\n",
        "moda=stats.mode(datos)\n",
        "print(\"la moda es:\", moda.mode)"
      ],
      "metadata": {
        "colab": {
          "base_uri": "https://localhost:8080/"
        },
        "id": "YOrZp5Ek66wo",
        "outputId": "0bb53a25-98b5-4398-b9c5-99686a227f8a"
      },
      "execution_count": 16,
      "outputs": [
        {
          "output_type": "stream",
          "name": "stdout",
          "text": [
            "la moda es: 20\n"
          ]
        }
      ]
    },
    {
      "cell_type": "markdown",
      "source": [
        "Tercer lista:\n",
        "10, 20, 30, 40, 50\n",
        "Media es:"
      ],
      "metadata": {
        "id": "wHMO9mUt7evp"
      }
    },
    {
      "cell_type": "code",
      "source": [
        "import numpy as np\n",
        "datos=[10, 20, 30, 40, 50]\n",
        "media=np.mean(datos)\n",
        "print(\"la media es:\", media)"
      ],
      "metadata": {
        "colab": {
          "base_uri": "https://localhost:8080/"
        },
        "id": "6ylmunhQ7p2x",
        "outputId": "c166cb39-5723-42f7-904a-615cba378749"
      },
      "execution_count": 18,
      "outputs": [
        {
          "output_type": "stream",
          "name": "stdout",
          "text": [
            "la media es: 30.0\n"
          ]
        }
      ]
    },
    {
      "cell_type": "markdown",
      "source": [
        "la mediana es:"
      ],
      "metadata": {
        "id": "RP9NDSt_8Irp"
      }
    },
    {
      "cell_type": "code",
      "source": [
        "import numpy as np\n",
        "datos=[10, 20, 30, 40, 50]\n",
        "mediana=np.median(datos)\n",
        "print(\"la mediana es:\", mediana)"
      ],
      "metadata": {
        "colab": {
          "base_uri": "https://localhost:8080/"
        },
        "id": "ljJrBolQ8K0E",
        "outputId": "8ff34375-aba7-402a-f953-4f109d95a677"
      },
      "execution_count": 20,
      "outputs": [
        {
          "output_type": "stream",
          "name": "stdout",
          "text": [
            "la mediana es: 30.0\n"
          ]
        }
      ]
    },
    {
      "cell_type": "markdown",
      "source": [
        "la moda es:"
      ],
      "metadata": {
        "id": "V4WZZT8i8fdW"
      }
    },
    {
      "cell_type": "code",
      "source": [
        "from scipy import stats\n",
        "datos=[10, 20, 30, 40, 50]\n",
        "moda=stats.mode(datos)\n",
        "print(\"la moda es:\", moda.mode)"
      ],
      "metadata": {
        "colab": {
          "base_uri": "https://localhost:8080/"
        },
        "id": "-JTcRf8Q8jAv",
        "outputId": "b3cb0a0b-f4e2-49f6-828d-c729a432196f"
      },
      "execution_count": 21,
      "outputs": [
        {
          "output_type": "stream",
          "name": "stdout",
          "text": [
            "la moda es: 10\n"
          ]
        }
      ]
    }
  ]
}